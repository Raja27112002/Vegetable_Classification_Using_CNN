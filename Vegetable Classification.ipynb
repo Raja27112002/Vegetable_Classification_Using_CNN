{
 "cells": [
  {
   "cell_type": "code",
   "execution_count": 32,
   "id": "684df7cf",
   "metadata": {},
   "outputs": [],
   "source": [
    "import tensorflow as tf\n",
    "from tensorflow import keras\n",
    "from keras.preprocessing.image import ImageDataGenerator\n",
    "import numpy as np\n",
    "from PIL import Image\n",
    "from tensorflow.keras.models import Sequential\n",
    "from tensorflow.keras.layers import Conv2D, MaxPooling2D, Flatten, Dense\n",
    "from tensorflow.keras.optimizers import Adam"
   ]
  },
  {
   "cell_type": "code",
   "execution_count": 33,
   "id": "682c69a2",
   "metadata": {},
   "outputs": [],
   "source": [
    "def preprocess_images(directory, batch_size, target_size, shuffle=True):\n",
    "    datagen = ImageDataGenerator(\n",
    "        rescale=1.0/255.0,  \n",
    "        shear_range=0.2,    \n",
    "        zoom_range=0.2,     \n",
    "        horizontal_flip=True,  \n",
    "        rotation_range=30,   \n",
    "        width_shift_range=0.2,   \n",
    "        height_shift_range=0.2  \n",
    "    )\n",
    "\n",
    "    image_generator = datagen.flow_from_directory(\n",
    "        directory,\n",
    "        target_size=target_size,\n",
    "        batch_size=batch_size,\n",
    "        class_mode='categorical',\n",
    "        shuffle=shuffle\n",
    "    )\n",
    "\n",
    "    return image_generator\n"
   ]
  },
  {
   "cell_type": "code",
   "execution_count": 34,
   "id": "6d6e8d5f",
   "metadata": {},
   "outputs": [
    {
     "name": "stdout",
     "output_type": "stream",
     "text": [
      "Model: \"sequential_1\"\n",
      "_________________________________________________________________\n",
      " Layer (type)                Output Shape              Param #   \n",
      "=================================================================\n",
      " conv2d_3 (Conv2D)           (None, 222, 222, 32)      896       \n",
      "                                                                 \n",
      " max_pooling2d_3 (MaxPooling  (None, 111, 111, 32)     0         \n",
      " 2D)                                                             \n",
      "                                                                 \n",
      " conv2d_4 (Conv2D)           (None, 109, 109, 64)      18496     \n",
      "                                                                 \n",
      " max_pooling2d_4 (MaxPooling  (None, 54, 54, 64)       0         \n",
      " 2D)                                                             \n",
      "                                                                 \n",
      " conv2d_5 (Conv2D)           (None, 52, 52, 128)       73856     \n",
      "                                                                 \n",
      " max_pooling2d_5 (MaxPooling  (None, 26, 26, 128)      0         \n",
      " 2D)                                                             \n",
      "                                                                 \n",
      " flatten_1 (Flatten)         (None, 86528)             0         \n",
      "                                                                 \n",
      " dense_2 (Dense)             (None, 64)                5537856   \n",
      "                                                                 \n",
      " dense_3 (Dense)             (None, 15)                975       \n",
      "                                                                 \n",
      "=================================================================\n",
      "Total params: 5,632,079\n",
      "Trainable params: 5,632,079\n",
      "Non-trainable params: 0\n",
      "_________________________________________________________________\n"
     ]
    }
   ],
   "source": [
    "\n",
    "\n",
    "# Define the model architecture\n",
    "model = Sequential()\n",
    "model.add(Conv2D(32, (3, 3), activation='relu', input_shape=(224, 224, 3)))\n",
    "model.add(MaxPooling2D((2, 2)))\n",
    "model.add(Conv2D(64, (3, 3), activation='relu'))\n",
    "model.add(MaxPooling2D((2, 2)))\n",
    "model.add(Conv2D(128, (3, 3), activation='relu'))\n",
    "model.add(MaxPooling2D((2, 2)))\n",
    "model.add(Flatten())\n",
    "model.add(Dense(64, activation='relu'))\n",
    "model.add(Dense(15, activation='softmax'))  # Assuming 3 classes\n",
    "\n",
    "\n",
    "model.summary()"
   ]
  },
  {
   "cell_type": "code",
   "execution_count": 35,
   "id": "16484cac",
   "metadata": {},
   "outputs": [],
   "source": [
    "\n",
    "# Compile the model\n",
    "model.compile(optimizer=Adam(learning_rate=0.001),\n",
    "              loss='categorical_crossentropy',\n",
    "              metrics=['accuracy'])\n",
    "\n"
   ]
  },
  {
   "cell_type": "code",
   "execution_count": 36,
   "id": "8015b96b",
   "metadata": {},
   "outputs": [
    {
     "name": "stdout",
     "output_type": "stream",
     "text": [
      "Found 15000 images belonging to 15 classes.\n",
      "Found 3000 images belonging to 15 classes.\n",
      "Found 3000 images belonging to 15 classes.\n"
     ]
    }
   ],
   "source": [
    "# Preprocess the image data\n",
    "train_data = preprocess_images('Vegetable Images/train', batch_size=32, target_size=(224, 224))\n",
    "test_data = preprocess_images('Vegetable Images/test', batch_size=32, target_size=(224, 224))\n",
    "val_data = preprocess_images('Vegetable Images/validation', batch_size=32, target_size=(224, 224))\n",
    "\n"
   ]
  },
  {
   "cell_type": "code",
   "execution_count": null,
   "id": "b7ab4e75",
   "metadata": {},
   "outputs": [],
   "source": []
  },
  {
   "cell_type": "code",
   "execution_count": 30,
   "id": "cbf25ef5",
   "metadata": {},
   "outputs": [
    {
     "data": {
      "text/plain": [
       "['Bean',\n",
       " 'Bitter_Gourd',\n",
       " 'Bottle_Gourd',\n",
       " 'Brinjal',\n",
       " 'Broccoli',\n",
       " 'Cabbage',\n",
       " 'Capsicum',\n",
       " 'Carrot',\n",
       " 'Cauliflower',\n",
       " 'Cucumber',\n",
       " 'Papaya',\n",
       " 'Potato',\n",
       " 'Pumpkin',\n",
       " 'Radish',\n",
       " 'Tomato']"
      ]
     },
     "execution_count": 30,
     "metadata": {},
     "output_type": "execute_result"
    }
   ],
   "source": [
    "class_names=['Bean', 'Bitter_Gourd', 'Bottle_Gourd', 'Brinjal', 'Broccoli', 'Cabbage', 'Capsicum', 'Carrot', 'Cauliflower', 'Cucumber', 'Papaya', 'Potato', 'Pumpkin', 'Radish', 'Tomato']\n",
    "class_names"
   ]
  },
  {
   "cell_type": "code",
   "execution_count": 4,
   "id": "487902eb",
   "metadata": {},
   "outputs": [
    {
     "name": "stdout",
     "output_type": "stream",
     "text": [
      "Epoch 1/10\n",
      "469/469 [==============================] - 577s 1s/step - loss: 1.4173 - accuracy: 0.5223 - val_loss: 1.0775 - val_accuracy: 0.6407\n",
      "Epoch 2/10\n",
      "469/469 [==============================] - 546s 1s/step - loss: 0.7412 - accuracy: 0.7595 - val_loss: 0.5293 - val_accuracy: 0.8270\n",
      "Epoch 3/10\n",
      "469/469 [==============================] - 321s 684ms/step - loss: 0.5216 - accuracy: 0.8309 - val_loss: 0.4324 - val_accuracy: 0.8617\n",
      "Epoch 4/10\n",
      "469/469 [==============================] - 369s 784ms/step - loss: 0.4084 - accuracy: 0.8689 - val_loss: 0.3679 - val_accuracy: 0.8820\n",
      "Epoch 5/10\n",
      "469/469 [==============================] - 380s 811ms/step - loss: 0.3358 - accuracy: 0.8953 - val_loss: 0.3410 - val_accuracy: 0.8937\n",
      "Epoch 6/10\n",
      "469/469 [==============================] - 418s 891ms/step - loss: 0.3084 - accuracy: 0.9019 - val_loss: 0.3060 - val_accuracy: 0.9050\n",
      "Epoch 7/10\n",
      "469/469 [==============================] - 389s 829ms/step - loss: 0.2773 - accuracy: 0.9141 - val_loss: 0.3116 - val_accuracy: 0.8983\n",
      "Epoch 8/10\n",
      "469/469 [==============================] - 278s 593ms/step - loss: 0.2322 - accuracy: 0.9268 - val_loss: 0.2338 - val_accuracy: 0.9263\n",
      "Epoch 9/10\n",
      "469/469 [==============================] - 330s 703ms/step - loss: 0.2125 - accuracy: 0.9329 - val_loss: 0.2184 - val_accuracy: 0.9333\n",
      "Epoch 10/10\n",
      "469/469 [==============================] - 348s 741ms/step - loss: 0.2146 - accuracy: 0.9339 - val_loss: 0.2260 - val_accuracy: 0.9323\n",
      "94/94 [==============================] - 69s 734ms/step - loss: 0.2298 - accuracy: 0.9260\n",
      "Test Loss: 0.22982057929039001\n",
      "Test Accuracy: 0.9259999990463257\n"
     ]
    }
   ],
   "source": [
    "with tf.device('GPU:0'):\n",
    "# Train the model\n",
    "    model.fit(train_data,\n",
    "              epochs=10,\n",
    "              validation_data=val_data)\n",
    "\n",
    "    # Evaluate the model on the test data\n",
    "    test_loss, test_accuracy = model.evaluate(test_data)\n",
    "    print('Test Loss:', test_loss)\n",
    "    print('Test Accuracy:', test_accuracy)\n",
    "\n",
    "    "
   ]
  },
  {
   "cell_type": "code",
   "execution_count": 5,
   "id": "20d83a31",
   "metadata": {},
   "outputs": [],
   "source": [
    "model.save('vegetablemodel.h5')"
   ]
  },
  {
   "cell_type": "code",
   "execution_count": 37,
   "id": "39504ee4",
   "metadata": {},
   "outputs": [],
   "source": [
    "import numpy as np\n",
    "import cv2\n",
    "def predict(model, img):\n",
    "    image = Image.open(img)  \n",
    "    image = image.resize((224, 224)) \n",
    "    image = np.array(image) / 255.0  \n",
    "    image = np.expand_dims(image, axis=0) \n",
    "    predictions = model.predict(image)\n",
    "    predicted_class = np.argmax(predictions)\n",
    "    predicted_label = class_names[predicted_class]\n",
    "    return (\"Predicted Label:\", predicted_label)\n"
   ]
  },
  {
   "cell_type": "code",
   "execution_count": 40,
   "id": "22564582",
   "metadata": {},
   "outputs": [
    {
     "name": "stdout",
     "output_type": "stream",
     "text": [
      "1/1 [==============================] - 1s 517ms/step\n"
     ]
    },
    {
     "data": {
      "text/plain": [
       "('Predicted Label:', 'Bitter_Gourd')"
      ]
     },
     "execution_count": 40,
     "metadata": {},
     "output_type": "execute_result"
    }
   ],
   "source": [
    "img = '0009.jpg'\n",
    "model = tf.keras.models.load_model('vegetablemodel.h5')\n",
    "predict(model,img)"
   ]
  },
  {
   "cell_type": "code",
   "execution_count": 51,
   "id": "3db3e421",
   "metadata": {},
   "outputs": [
    {
     "name": "stdout",
     "output_type": "stream",
     "text": [
      "Collecting tf2onnx\n",
      "  Downloading tf2onnx-1.14.0-py3-none-any.whl (451 kB)\n",
      "     -------------------------------------- 451.2/451.2 kB 1.0 MB/s eta 0:00:00\n",
      "Requirement already satisfied: requests in c:\\users\\raja.balasubramani\\anaconda3\\lib\\site-packages (from tf2onnx) (2.28.1)\n",
      "Requirement already satisfied: six in c:\\users\\raja.balasubramani\\anaconda3\\lib\\site-packages (from tf2onnx) (1.16.0)\n",
      "Requirement already satisfied: flatbuffers<3.0,>=1.12 in c:\\users\\raja.balasubramani\\anaconda3\\lib\\site-packages (from tf2onnx) (1.12)\n",
      "Collecting onnx>=1.4.1\n",
      "  Using cached onnx-1.14.0-cp310-cp310-win_amd64.whl (13.3 MB)\n",
      "Requirement already satisfied: numpy>=1.14.1 in c:\\users\\raja.balasubramani\\anaconda3\\lib\\site-packages (from tf2onnx) (1.23.1)\n",
      "Requirement already satisfied: protobuf>=3.20.2 in c:\\users\\raja.balasubramani\\anaconda3\\lib\\site-packages (from onnx>=1.4.1->tf2onnx) (4.23.2)\n",
      "Requirement already satisfied: typing-extensions>=3.6.2.1 in c:\\users\\raja.balasubramani\\anaconda3\\lib\\site-packages (from onnx>=1.4.1->tf2onnx) (4.4.0)\n",
      "Requirement already satisfied: urllib3<1.27,>=1.21.1 in c:\\users\\raja.balasubramani\\anaconda3\\lib\\site-packages (from requests->tf2onnx) (1.26.14)\n",
      "Requirement already satisfied: certifi>=2017.4.17 in c:\\users\\raja.balasubramani\\anaconda3\\lib\\site-packages (from requests->tf2onnx) (2023.5.7)\n",
      "Requirement already satisfied: charset-normalizer<3,>=2 in c:\\users\\raja.balasubramani\\anaconda3\\lib\\site-packages (from requests->tf2onnx) (2.0.4)\n",
      "Requirement already satisfied: idna<4,>=2.5 in c:\\users\\raja.balasubramani\\anaconda3\\lib\\site-packages (from requests->tf2onnx) (3.4)\n",
      "Installing collected packages: onnx, tf2onnx\n",
      "Successfully installed onnx-1.14.0 tf2onnx-1.14.0\n"
     ]
    },
    {
     "name": "stderr",
     "output_type": "stream",
     "text": [
      "WARNING: Ignoring invalid distribution -rotobuf (c:\\users\\raja.balasubramani\\appdata\\roaming\\python\\python310\\site-packages)\n",
      "WARNING: Ignoring invalid distribution -rotobuf (c:\\users\\raja.balasubramani\\appdata\\roaming\\python\\python310\\site-packages)\n",
      "WARNING: Ignoring invalid distribution -rotobuf (c:\\users\\raja.balasubramani\\appdata\\roaming\\python\\python310\\site-packages)\n",
      "WARNING: Ignoring invalid distribution -rotobuf (c:\\users\\raja.balasubramani\\anaconda3\\lib\\site-packages)\n",
      "WARNING: Ignoring invalid distribution -rotobuf (c:\\users\\raja.balasubramani\\anaconda3\\lib\\site-packages)\n",
      "WARNING: Ignoring invalid distribution -rotobuf (c:\\users\\raja.balasubramani\\appdata\\roaming\\python\\python310\\site-packages)\n",
      "WARNING: Ignoring invalid distribution -rotobuf (c:\\users\\raja.balasubramani\\appdata\\roaming\\python\\python310\\site-packages)\n",
      "WARNING: Ignoring invalid distribution -rotobuf (c:\\users\\raja.balasubramani\\appdata\\roaming\\python\\python310\\site-packages)\n"
     ]
    }
   ],
   "source": [
    "!pip install tf2onnx\n"
   ]
  },
  {
   "cell_type": "code",
   "execution_count": 53,
   "id": "4ed10bb6",
   "metadata": {},
   "outputs": [
    {
     "ename": "ImportError",
     "evalue": "cannot import name 'builder' from 'google.protobuf.internal' (C:\\Users\\Raja.Balasubramani\\AppData\\Roaming\\Python\\Python310\\site-packages\\google\\protobuf\\internal\\__init__.py)",
     "output_type": "error",
     "traceback": [
      "\u001b[1;31m---------------------------------------------------------------------------\u001b[0m",
      "\u001b[1;31mImportError\u001b[0m                               Traceback (most recent call last)",
      "Cell \u001b[1;32mIn[53], line 1\u001b[0m\n\u001b[1;32m----> 1\u001b[0m \u001b[38;5;28;01mimport\u001b[39;00m \u001b[38;5;21;01monnx\u001b[39;00m\n\u001b[0;32m      2\u001b[0m \u001b[38;5;28;01mimport\u001b[39;00m \u001b[38;5;21;01mtf2onnx\u001b[39;00m\n",
      "File \u001b[1;32m~\\anaconda3\\lib\\site-packages\\onnx\\__init__.py:13\u001b[0m\n\u001b[0;32m     10\u001b[0m \u001b[38;5;28;01mimport\u001b[39;00m \u001b[38;5;21;01mgoogle\u001b[39;00m\u001b[38;5;21;01m.\u001b[39;00m\u001b[38;5;21;01mprotobuf\u001b[39;00m\u001b[38;5;21;01m.\u001b[39;00m\u001b[38;5;21;01mmessage\u001b[39;00m\n\u001b[0;32m     12\u001b[0m \u001b[38;5;28;01mfrom\u001b[39;00m \u001b[38;5;21;01monnx\u001b[39;00m\u001b[38;5;21;01m.\u001b[39;00m\u001b[38;5;21;01monnx_cpp2py_export\u001b[39;00m \u001b[38;5;28;01mimport\u001b[39;00m ONNX_ML\n\u001b[1;32m---> 13\u001b[0m \u001b[38;5;28;01mfrom\u001b[39;00m \u001b[38;5;21;01monnx\u001b[39;00m\u001b[38;5;21;01m.\u001b[39;00m\u001b[38;5;21;01mexternal_data_helper\u001b[39;00m \u001b[38;5;28;01mimport\u001b[39;00m (\n\u001b[0;32m     14\u001b[0m     load_external_data_for_model,\n\u001b[0;32m     15\u001b[0m     write_external_data_tensors,\n\u001b[0;32m     16\u001b[0m     convert_model_to_external_data,\n\u001b[0;32m     17\u001b[0m )\n\u001b[0;32m     18\u001b[0m \u001b[38;5;28;01mfrom\u001b[39;00m \u001b[38;5;21;01monnx\u001b[39;00m\u001b[38;5;21;01m.\u001b[39;00m\u001b[38;5;21;01monnx_pb\u001b[39;00m \u001b[38;5;28;01mimport\u001b[39;00m (\n\u001b[0;32m     19\u001b[0m     AttributeProto,\n\u001b[0;32m     20\u001b[0m     EXPERIMENTAL,\n\u001b[1;32m   (...)\u001b[0m\n\u001b[0;32m     45\u001b[0m     Version,\n\u001b[0;32m     46\u001b[0m )\n\u001b[0;32m     47\u001b[0m \u001b[38;5;28;01mfrom\u001b[39;00m \u001b[38;5;21;01monnx\u001b[39;00m\u001b[38;5;21;01m.\u001b[39;00m\u001b[38;5;21;01monnx_operators_pb\u001b[39;00m \u001b[38;5;28;01mimport\u001b[39;00m OperatorProto, OperatorSetProto\n",
      "File \u001b[1;32m~\\anaconda3\\lib\\site-packages\\onnx\\external_data_helper.py:11\u001b[0m\n\u001b[0;32m      8\u001b[0m \u001b[38;5;28;01mfrom\u001b[39;00m \u001b[38;5;21;01mitertools\u001b[39;00m \u001b[38;5;28;01mimport\u001b[39;00m chain\n\u001b[0;32m      9\u001b[0m \u001b[38;5;28;01mfrom\u001b[39;00m \u001b[38;5;21;01mtyping\u001b[39;00m \u001b[38;5;28;01mimport\u001b[39;00m Callable, Iterable, Optional\n\u001b[1;32m---> 11\u001b[0m \u001b[38;5;28;01mfrom\u001b[39;00m \u001b[38;5;21;01monnx\u001b[39;00m\u001b[38;5;21;01m.\u001b[39;00m\u001b[38;5;21;01monnx_pb\u001b[39;00m \u001b[38;5;28;01mimport\u001b[39;00m AttributeProto, GraphProto, ModelProto, TensorProto\n\u001b[0;32m     14\u001b[0m \u001b[38;5;28;01mclass\u001b[39;00m \u001b[38;5;21;01mExternalDataInfo\u001b[39;00m:\n\u001b[0;32m     15\u001b[0m     \u001b[38;5;28;01mdef\u001b[39;00m \u001b[38;5;21m__init__\u001b[39m(\u001b[38;5;28mself\u001b[39m, tensor: TensorProto) \u001b[38;5;241m-\u001b[39m\u001b[38;5;241m>\u001b[39m \u001b[38;5;28;01mNone\u001b[39;00m:\n",
      "File \u001b[1;32m~\\anaconda3\\lib\\site-packages\\onnx\\onnx_pb.py:4\u001b[0m\n\u001b[0;32m      1\u001b[0m \u001b[38;5;66;03m# This file is generated by setup.py. DO NOT EDIT!\u001b[39;00m\n\u001b[1;32m----> 4\u001b[0m \u001b[38;5;28;01mfrom\u001b[39;00m \u001b[38;5;21;01m.\u001b[39;00m\u001b[38;5;21;01monnx_ml_pb2\u001b[39;00m \u001b[38;5;28;01mimport\u001b[39;00m \u001b[38;5;241m*\u001b[39m\n",
      "File \u001b[1;32m~\\anaconda3\\lib\\site-packages\\onnx\\onnx_ml_pb2.py:5\u001b[0m\n\u001b[0;32m      1\u001b[0m \u001b[38;5;66;03m# -*- coding: utf-8 -*-\u001b[39;00m\n\u001b[0;32m      2\u001b[0m \u001b[38;5;66;03m# Generated by the protocol buffer compiler.  DO NOT EDIT!\u001b[39;00m\n\u001b[0;32m      3\u001b[0m \u001b[38;5;66;03m# source: onnx/onnx-ml.proto\u001b[39;00m\n\u001b[0;32m      4\u001b[0m \u001b[38;5;124;03m\"\"\"Generated protocol buffer code.\"\"\"\u001b[39;00m\n\u001b[1;32m----> 5\u001b[0m \u001b[38;5;28;01mfrom\u001b[39;00m \u001b[38;5;21;01mgoogle\u001b[39;00m\u001b[38;5;21;01m.\u001b[39;00m\u001b[38;5;21;01mprotobuf\u001b[39;00m\u001b[38;5;21;01m.\u001b[39;00m\u001b[38;5;21;01minternal\u001b[39;00m \u001b[38;5;28;01mimport\u001b[39;00m builder \u001b[38;5;28;01mas\u001b[39;00m _builder\n\u001b[0;32m      6\u001b[0m \u001b[38;5;28;01mfrom\u001b[39;00m \u001b[38;5;21;01mgoogle\u001b[39;00m\u001b[38;5;21;01m.\u001b[39;00m\u001b[38;5;21;01mprotobuf\u001b[39;00m \u001b[38;5;28;01mimport\u001b[39;00m descriptor \u001b[38;5;28;01mas\u001b[39;00m _descriptor\n\u001b[0;32m      7\u001b[0m \u001b[38;5;28;01mfrom\u001b[39;00m \u001b[38;5;21;01mgoogle\u001b[39;00m\u001b[38;5;21;01m.\u001b[39;00m\u001b[38;5;21;01mprotobuf\u001b[39;00m \u001b[38;5;28;01mimport\u001b[39;00m descriptor_pool \u001b[38;5;28;01mas\u001b[39;00m _descriptor_pool\n",
      "\u001b[1;31mImportError\u001b[0m: cannot import name 'builder' from 'google.protobuf.internal' (C:\\Users\\Raja.Balasubramani\\AppData\\Roaming\\Python\\Python310\\site-packages\\google\\protobuf\\internal\\__init__.py)"
     ]
    }
   ],
   "source": [
    "import onnx\n",
    "import tf2onnx"
   ]
  },
  {
   "cell_type": "code",
   "execution_count": null,
   "id": "87b08e4e",
   "metadata": {},
   "outputs": [],
   "source": [
    "import tf2"
   ]
  },
  {
   "cell_type": "code",
   "execution_count": null,
   "id": "82d3f1c4",
   "metadata": {},
   "outputs": [],
   "source": []
  },
  {
   "cell_type": "code",
   "execution_count": null,
   "id": "8b58e401",
   "metadata": {},
   "outputs": [],
   "source": []
  }
 ],
 "metadata": {
  "kernelspec": {
   "display_name": "Python 3 (ipykernel)",
   "language": "python",
   "name": "python3"
  },
  "language_info": {
   "codemirror_mode": {
    "name": "ipython",
    "version": 3
   },
   "file_extension": ".py",
   "mimetype": "text/x-python",
   "name": "python",
   "nbconvert_exporter": "python",
   "pygments_lexer": "ipython3",
   "version": "3.10.9"
  }
 },
 "nbformat": 4,
 "nbformat_minor": 5
}
